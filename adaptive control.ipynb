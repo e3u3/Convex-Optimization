{
 "cells": [
  {
   "cell_type": "code",
   "execution_count": 3,
   "metadata": {},
   "outputs": [],
   "source": [
    "%load_ext autoreload\n",
    "%autoreload 2"
   ]
  },
  {
   "cell_type": "code",
   "execution_count": 4,
   "metadata": {},
   "outputs": [],
   "source": [
    "import numpy as np\n",
    "import cvxpy as cp\n",
    "import matplotlib.pyplot as plt\n",
    "from helper import *"
   ]
  },
  {
   "cell_type": "markdown",
   "metadata": {},
   "source": [
    "# Adaptive Control\n"
   ]
  },
  {
   "cell_type": "markdown",
   "metadata": {},
   "source": [
    "### Summary:\n",
    "* We describe a very naive adaptive control strategy\n",
    "* We walk through the implementation of said strategy\n",
    "* We test out the strategy on different systems and compare performance"
   ]
  },
  {
   "cell_type": "markdown",
   "metadata": {},
   "source": [
    "### Overview"
   ]
  },
  {
   "cell_type": "markdown",
   "metadata": {},
   "source": [
    "A one sentence summary of what adaptive control aims to answer is the following: how can you control a system whose parameters you don't know for certain? That is, suppose we had a linear time invariant (LTI) system of the form"
   ]
  },
  {
   "cell_type": "markdown",
   "metadata": {},
   "source": [
    "$$x_{t+1} =  Ax_t + Bu_t $$\n",
    "$$ y_t = x_t$$"
   ]
  },
  {
   "cell_type": "markdown",
   "metadata": {},
   "source": [
    "and we want to control the system to $x_T = 0$ after $T$ time steps. If we knew $(A,B)$, we could use the Linear Quadratic Regulator (LQR). But if you don't know $(A,B)$ what do you do?"
   ]
  },
  {
   "cell_type": "markdown",
   "metadata": {},
   "source": [
    "This is by no means a solved problem but a lot of research has been done on different strategies and methods to tackle these sorts of problem. In this notebook, we'll try out a simple strategy, see when it works and doesn't work, and walk through the implementation process."
   ]
  },
  {
   "cell_type": "markdown",
   "metadata": {},
   "source": [
    "### Simple Strategy"
   ]
  },
  {
   "cell_type": "markdown",
   "metadata": {},
   "source": [
    "We could simply use our best estimate of $(A,B)$ at a given time $t < T$ - call it $(\\hat{A}_t,\\hat{B}_t)$ - and pretend that they are actually the correct values. Then solve the LQR problem using $(\\hat{A}_t,\\hat{B}_t)$ while continually updating our estimates of $(A,B)$. More specifically,"
   ]
  },
  {
   "cell_type": "markdown",
   "metadata": {},
   "source": [
    "At $t= 0$, set $y_0 = x_0 = \\bar{x}$ as starting point and input $u_0 \\sim \\mathcal{N}(0,\\sigma^2 I)$ and observe $y_1$\\\n",
    "$\\textbf{for}$ $t=1,...,T$\n",
    "* Calculate $(\\hat{A}_t, \\hat{B}_t)$ via Least Squares using the trajectory up until time $t$ &mdash; $\\{ (u_i,y_i) \\}_{i=0}^{t-1}$\n",
    "* Solve a 10-horizon LQR problem using $(\\hat{A}_t, \\hat{B}_t)$ to get $\\{u_i^\\ast\\}_{t=1}^{10}$\n",
    "* Apply $u_1^\\ast$ to the true system and observe $y_t$"
   ]
  },
  {
   "cell_type": "markdown",
   "metadata": {},
   "source": [
    "### Implementation"
   ]
  },
  {
   "cell_type": "markdown",
   "metadata": {},
   "source": [
    "Let's implement the above procedure and see how it performs."
   ]
  },
  {
   "cell_type": "markdown",
   "metadata": {},
   "source": [
    "#### Step 1 &mdash; Calculate $(\\hat{A}_t, \\hat{B}_t)$"
   ]
  },
  {
   "cell_type": "markdown",
   "metadata": {},
   "source": [
    "The function below takes in a trajectory up until time $t-1$ and outputs $(\\hat{A}_t, \\hat{B}_t)$"
   ]
  },
  {
   "cell_type": "code",
   "execution_count": 217,
   "metadata": {},
   "outputs": [],
   "source": [
    "def system_identification(u ,y):\n",
    "    # code a function that takes in a list\n",
    "    # of inputs (u) and outputs (y) and \n",
    "    # returns a least squares estimate of (A,B)\n",
    "    # using the method dervied in the worksheet\n",
    "    \n",
    "    \n",
    "    ### YOUR CODE HERE ###\n",
    "    all_ys = []\n",
    "    all_us = []\n",
    "    all_inputys=[]\n",
    "    for i in range(len(u)):\n",
    "\n",
    "        y1 = np.concatenate((y[i],np.zeros(y[i].shape)),axis=None)\n",
    "        y2 = np.concatenate((np.zeros(y[i].shape),y[i]),axis=None)\n",
    "        each_y = np.vstack((y1,y2))\n",
    "        all_ys += [each_y]\n",
    "\n",
    "        u1 = np.concatenate((u[i],np.array([0])),axis=None)\n",
    "        u2 = np.concatenate((np.array([0]),u[i]),axis=None)\n",
    "        each_u = np.vstack((u1,u2))\n",
    "        all_us += [each_u]\n",
    "        \n",
    "        all_inputys+=[y[i+1]]\n",
    "\n",
    "    Y = np.vstack(all_ys)\n",
    "    U = np.vstack(all_us)\n",
    "    Z = np.hstack(all_inputys)\n",
    "\n",
    "    A= Y.T@Y\n",
    "    B= Y.T@U\n",
    "    C= Y.T@Z\n",
    "    D= U.T@U\n",
    "    E= U.T@Y\n",
    "    F= U.T@Z\n",
    "\n",
    "    vec_b_opt = np.linalg.pinv(np.linalg.pinv(A)@B-np.linalg.pinv(E)@D)@(np.linalg.pinv(E)@F-np.linalg.pinv(A)@C)\n",
    "    vec_a_opt = np.linalg.pinv(np.linalg.pinv(B)@A-np.linalg.pinv(D)@E)@(np.linalg.pinv(D)@F-np.linalg.pinv(B)@C)\n",
    "\n",
    "    Ahat = vec_a_opt.reshape((2,2))\n",
    "    Bhat = vec_b_opt.reshape((2,1))\n",
    "    \n",
    "    return Ahat, Bhat"
   ]
  },
  {
   "cell_type": "markdown",
   "metadata": {},
   "source": [
    "#### Step 2 &mdash; Solve 1-horizon LQR problem using $(\\hat{A}_t, \\hat{B}_t)$"
   ]
  },
  {
   "cell_type": "markdown",
   "metadata": {},
   "source": [
    "We solve the finite horizon LQR problem using the Discrete Algebraic Riccati Equations (DARE). "
   ]
  },
  {
   "cell_type": "code",
   "execution_count": 159,
   "metadata": {},
   "outputs": [],
   "source": [
    "def optimal_control(A, B, Q, R, y0, t = 1):\n",
    "    # solve LQR problem with A,B given using\n",
    "    # discrete time algebraic ricatti equations\n",
    "\n",
    "    n, m = B.shape[0], B.shape[1]\n",
    "\n",
    "    Pt = [Q]\n",
    "    for i in range(t):\n",
    "        BPBR_inv = np.linalg.inv(B.T @ Pt[i] @ B+ R)\n",
    "        Pt.append(Q + A.T @ Pt[i] @ A -\n",
    "                  A.T @ Pt[i] @ B @ BPBR_inv @ B.T @ Pt[i] @ A)\n",
    "    Pt.reverse()\n",
    "    \n",
    "    ut = []\n",
    "    yt = [y0]\n",
    "    for i in range(t):\n",
    "        BPBR_inv = np.linalg.inv(B.T @ Pt[0] @ B + R)\n",
    "        ut.append(-BPBR_inv @ B.T @ Pt[i] @ A @ yt[i])\n",
    "        yt.append(A @ yt[i] + B @ ut[i])\n",
    "        \n",
    "    return ut\n"
   ]
  },
  {
   "cell_type": "markdown",
   "metadata": {},
   "source": [
    "#### Step 3 &mdash; Simulate real system usig control from Step 2"
   ]
  },
  {
   "cell_type": "markdown",
   "metadata": {},
   "source": [
    "We take $u_t[0]$ from the output of the $\\texttt{optimal_control}$ method and run the $\\texttt{simulate_system}(y0, u_t[0])$ method from helper.py"
   ]
  },
  {
   "cell_type": "markdown",
   "metadata": {},
   "source": [
    "### Experiments"
   ]
  },
  {
   "cell_type": "markdown",
   "metadata": {},
   "source": [
    "We consider the two following systems; System 1"
   ]
  },
  {
   "cell_type": "markdown",
   "metadata": {},
   "source": [
    "$$x_{t+1} = \\begin{bmatrix} 1 & 1\\\\ 0 & 1 \\end{bmatrix} x_t + \\begin{bmatrix} 1 \\\\ 0 \\end{bmatrix} u_t$$"
   ]
  },
  {
   "cell_type": "markdown",
   "metadata": {},
   "source": [
    "$$y_t = x_t$$"
   ]
  },
  {
   "cell_type": "markdown",
   "metadata": {},
   "source": [
    "and System 2"
   ]
  },
  {
   "cell_type": "markdown",
   "metadata": {},
   "source": [
    "$$ x_{t+1} = \\begin{bmatrix} 0 & 1\\\\ 0 & 0 \\end{bmatrix} x_t + \\begin{bmatrix} 0 \\\\ 1 \\end{bmatrix} u_t$$"
   ]
  },
  {
   "cell_type": "markdown",
   "metadata": {},
   "source": [
    "$$y_t = x_t$$"
   ]
  },
  {
   "cell_type": "markdown",
   "metadata": {},
   "source": [
    "The systems are written out explicitly above but we **do not have access** to them. All we have access is to is the output of each system $y_t$ when we feed in $u_t$. In the real world, we have a system where we havent modeled the dynamics (we don't know the true inner workings of the system), but all we're allowed to do is feed the system inputs and observe the output. Since we are running a synthetic simulation, we are artifically creating the true system (with the equations given above) but in order to simulate our procedure as if it were in the real world, **we assume** that we can only observe an output $y_t$ when we input $u_t$. This is captured by the $\\texttt{simulate_system}$ function in the helper file."
   ]
  },
  {
   "cell_type": "markdown",
   "metadata": {},
   "source": [
    "We will now implement our naive strategy on both systems and see how we do. We fix the time horizon of the problem (not LQR) to $T=20$. That is, we will simulate the system for 20 steps with the controls based on our naive strategy. For both systems, try the two initial conditions $y_0 = [1,0]$ and $y_0 = [1,1]$ and start with a random initial input ($u_0 \\sim \\mathcal{N}(0,1)$) to get the system started (note this is the only randomness in the simulation). For simplicity, we'll fix $Q = I_2$ and $R = 1$ for the LQR problem. "
   ]
  },
  {
   "cell_type": "code",
   "execution_count": 249,
   "metadata": {},
   "outputs": [],
   "source": [
    "n, m, T = 2, 1, 20                   #2 states, 1 input, 30 time steps\n",
    "y0 = np.array([1,1])                 #initial state\n",
    "u0 = np.array(np.random.randn(m))    #random initial input\n",
    "states, controls = [y0], [u0]        #list of states and controls\n",
    "y1 = simulate_system(y0, u0, 1)      #start off the system\n",
    "states.append(y1)\n",
    "\n",
    "Q, R = np.eye(n), np.eye(m)\n",
    "At, Bt = [], []\n",
    "\n",
    "# Jointly do system identification and control\n",
    "for i in range(T):\n",
    "    \n",
    "    # system identification\n",
    "    A_hat, B_hat = system_identification(controls,states)\n",
    "    \n",
    "    At.append(A_hat)\n",
    "    Bt.append(B_hat)\n",
    "    y1 = A_hat@y1 + B_hat@ u0\n",
    "    states.append(y1)\n",
    "    \n",
    "    # optimal control and simulate real system\n",
    "    u0 = optimal_control(A_hat, B_hat, Q, R, y1, t = 1)[0]\n",
    "    controls.append(u0)"
   ]
  },
  {
   "cell_type": "markdown",
   "metadata": {},
   "source": [
    "We are interested in answering the following two questions for each initial condition for each system \n",
    "* Does $(\\hat{A}_t,\\hat{B}_t) \\rightarrow (A,B)$? \n",
    "* Does $y_t \\rightarrow [0, 0]$ indicating the system has converged to an equilibrium?"
   ]
  },
  {
   "cell_type": "code",
   "execution_count": 254,
   "metadata": {},
   "outputs": [
    {
     "data": {
      "text/plain": [
       "(array([[0.03277919, 0.08445624],\n",
       "        [0.01342663, 0.03459399]]),\n",
       " array([[0.62148194],\n",
       "        [1.38887401]]))"
      ]
     },
     "execution_count": 254,
     "metadata": {},
     "output_type": "execute_result"
    }
   ],
   "source": [
    "At[-1], Bt[-1] #No, does not converge"
   ]
  },
  {
   "cell_type": "code",
   "execution_count": 255,
   "metadata": {},
   "outputs": [
    {
     "data": {
      "text/plain": [
       "Text(0, 0.5, 'position')"
      ]
     },
     "execution_count": 255,
     "metadata": {},
     "output_type": "execute_result"
    },
    {
     "data": {
      "image/png": "[encoded data removed]",
      "text/plain": [
       "<Figure size 432x288 with 1 Axes>"
      ]
     },
     "metadata": {
      "needs_background": "light"
     },
     "output_type": "display_data"
    }
   ],
   "source": [
    "### YOUR ANSWER HERE ###\n",
    "\n",
    "plt.plot(controls,label='u')\n",
    "plt.plot(np.array(states)[:,0],label='y[0]')\n",
    "plt.plot(np.array(states)[:,1],label='y[1]')\n",
    "plt.legend()\n",
    "plt.xlabel('time')\n",
    "plt.ylabel('position')\n",
    "\n",
    "#yt does converge"
   ]
  },
  {
   "cell_type": "markdown",
   "metadata": {},
   "source": [
    "#### From the above graph we can see that yt does in deed converge to zero, and the system converges to an equilibrium. However, A_hat and B_hat did not seem to converge to A and B indicated in the beginning of the problem. "
   ]
  },
  {
   "cell_type": "markdown",
   "metadata": {},
   "source": [
    "### Open-ended question"
   ]
  },
  {
   "cell_type": "markdown",
   "metadata": {},
   "source": [
    "Now we restrict our attention to the following system:"
   ]
  },
  {
   "cell_type": "markdown",
   "metadata": {},
   "source": [
    "$$x_{t+1} = \\begin{bmatrix} 1 & 1\\\\ 0 & 1.99 \\end{bmatrix} x_t + \\begin{bmatrix} 1 \\\\ 1 \\end{bmatrix} u_t$$\n",
    "$$ y_t = x_t $$"
   ]
  },
  {
   "cell_type": "markdown",
   "metadata": {},
   "source": [
    "The goal of this section is to see if you can come up with a method for which $(\\hat{A}_t,\\hat{B}_t) \\rightarrow (A,B)$ and $y_t \\rightarrow [0,0]$ **for all** initial conditions $y_0$ (since this is an empirical problem, we'll be satisfied if the method works for 1000 random initial conditions $y_0 \\sim \\mathcal{N}(0, 10 \\cdot I_2)$). Compare how your method compares with running LQR on the problem assuming you knew the system dynamics. \n",
    "\n",
    "There is by no means a *correct* answer. This portion is intended to be open ended and for you to try out any ideas you have (or to implement ideas from research papers). While there is a plethora of research in this area, below are some references that may be of interest:\n",
    "\n",
    "[1] Regret Bounds for Robust Adaptive Control of the Linear Quadratic Regulator (Dean et al, 2018) <br />\n",
    "[2] Finite Time Adaptive Stabilization of LQ Systems (Faradonbeh et al, 2018) <br />\n",
    "[3] Optimal adaptive control of Linear-Quadratic-Gaussian systems (Kumar, 1983) <br />\n",
    "[4] A survey of some results in stochastic adaptive control (Kumar, 1985) <br />\n"
   ]
  },
  {
   "cell_type": "markdown",
   "metadata": {},
   "source": [
    "Albert Einstein once said \"If we knew what it was we were doing, it would not be called research, would it?\""
   ]
  },
  {
   "cell_type": "code",
   "execution_count": null,
   "metadata": {},
   "outputs": [],
   "source": [
   ]
  }
 ],
 "metadata": {
  "kernelspec": {
   "display_name": "Python 3",
   "language": "python",
   "name": "python3"
  },
  "language_info": {
   "codemirror_mode": {
    "name": "ipython",
    "version": 3
   },
   "file_extension": ".py",
   "mimetype": "text/x-python",
   "name": "python",
   "nbconvert_exporter": "python",
   "pygments_lexer": "ipython3",
   "version": "3.7.2"
  }
 },
 "nbformat": 4,
 "nbformat_minor": 4
}
