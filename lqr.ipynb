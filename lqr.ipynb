{
 "cells": [
  {
   "cell_type": "markdown",
   "metadata": {},
   "source": [
    "# Optimal and Adaptive Control Project, Part 1: Constrained LQR"
   ]
  },
  {
   "cell_type": "markdown",
   "metadata": {},
   "source": [
    "In this part of the project, we will explore the Linear Quadratic Regulator (LQR) and how it works. We will then explore how to solve the LQR problem with additional constraints on our system. For a detailed introduction to the project, please refer to the supporting document."
   ]
  },
  {
   "cell_type": "markdown",
   "metadata": {},
   "source": [
    "As a refresher, the LQR problem is \n",
    "$$min_{\\mathbf{u}_0,...,\\mathbf{u}_{N-1}} \\: \\: \\mathbf{x}_N^TQ\\mathbf{x}_N + \\sum_{k=0}^{N-1}{\\mathbf{x}_k^TQ\\mathbf{x}_k + \\mathbf{u}_k^TR\\mathbf{u}_k}$$\n",
    "\n",
    "$$s.t. \\: \\: \\mathbf{x}_{k+1} = A\\mathbf{x}_{k} + B\\mathbf{u}_{k}, \\: \\: k = 0,...N-1$$\n",
    "\n",
    "$$\\mathbf{x}_0 = \\mathbf{x}_{init}$$"
   ]
  },
  {
   "cell_type": "markdown",
   "metadata": {},
   "source": [
    "This can be solved using the discrete-time, finite time horizon Algebraic Riccati Equation. We have provided code for this below. "
   ]
  },
  {
   "cell_type": "code",
   "execution_count": 5,
   "metadata": {},
   "outputs": [],
   "source": [
    "import cvxpy as cp\n",
    "import matplotlib.pyplot as plt\n",
    "import numpy as np"
   ]
  },
  {
   "cell_type": "code",
   "execution_count": 6,
   "metadata": {},
   "outputs": [],
   "source": [
    "def simulate_system(A, B, x, u):\n",
    "    '''\n",
    "    Give the next state according to the system dynamics, given the current\n",
    "    state x.\n",
    "    '''\n",
    "    return A @ x + B @ u\n",
    "\n",
    "def optimal_control(A, B, Q, R, x0, N):\n",
    "    '''\n",
    "    Solve the LQR problem using the Discrete time Algebraic Riccati Equations\n",
    "    for the given system (given by A, B) and the given Q and R. x0 is the \n",
    "    initial state and N is the time horizon under 0-indexing.\n",
    "    '''\n",
    "    \n",
    "    R = np.eye(2) * R \n",
    "    B = np.array([[B[0], 0], [B[1], 0]])\n",
    "    \n",
    "    # Go backwards in time to generate all of the P matrices.\n",
    "    Pk = [Q]\n",
    "    for i in range(N-1):\n",
    "        BPBR_inv = np.linalg.inv(B.T @ Pk[i] @ B + R)\n",
    "        Pk.append(Q + A.T @ Pk[i] @ A -\n",
    "                  A.T @ Pk[i] @ B @ BPBR_inv @ B.T @ Pk[i] @ A)\n",
    "    Pk.reverse()\n",
    "    \n",
    "    # Now go forwards in time to generate the optimal control inputs.\n",
    "    # This also gives us the resulting states from applying the controls.\n",
    "    uk = []\n",
    "    xk = [x0]\n",
    "    for i in range(N):\n",
    "        BPBR_inv = np.linalg.inv(B.T @ Pk[i] @ B + R)\n",
    "        uk.append(-BPBR_inv @ B.T @ Pk[i] @ A @ xk[i])\n",
    "        xk.append(simulate_system(A, B, xk[i], uk[i]))\n",
    "\n",
    "    return [elem[0] for elem in uk], xk"
   ]
  },
  {
   "attachments": {},
   "cell_type": "markdown",
   "metadata": {},
   "source": [
    "For this part of the project, we will work with the lateral dynamics of a quadrotor:\n",
    "\n",
    "<img src=\"quadrotor_lateral_dynamics.png\" width=\"500\"/>\n",
    "\n",
    "The dynamics for this system are given by $$\\ddot{x}(t) = gtan(\\theta)$$ where $g$ is the acceleration due to gravity and $x(t)$ is the position along the force vector $T$. Linearizing this model, we have $$\\ddot{x}(t) = g\\theta$$ Then, the continuous time model is \n",
    "\n",
    "$$\\begin{bmatrix} \\dot{x} \\\\ \\ddot{x} \\end{bmatrix} = \\begin{bmatrix} 0 & 1 \\\\ 0 & 0 \\end{bmatrix} \n",
    "\\begin{bmatrix} x \\\\ \\dot{x} \\end{bmatrix} + \\begin{bmatrix} 0 \\\\ g \\end{bmatrix}u$$ where $u = \\theta$.\n",
    "\n",
    "Discretizing for a sampling time of 0.1 sec, the system dynamics become\n",
    "$$x_{k + 1} = \\begin{bmatrix} 1 & 0.1\\\\ 0 & 1 \\end{bmatrix}x_k + 9.8\\begin{bmatrix} 0.005 \\\\ 0.1 \\end{bmatrix}u_k$$\n",
    "$$x_0 = \\begin{bmatrix} 5 \\\\ 5 \\end{bmatrix}$$\n",
    "\n",
    "See [1] for more information about this model and its derivation.\n",
    "\n",
    "We will start with $$Q = \\begin{bmatrix} 1 & 0\\\\ 0 & 1 \\end{bmatrix}$$ and \n",
    "$$R = 1$$ \n",
    "Throughout this notebook, we will keep $Q$ and $R$ in this same format: $Q = qI$ and $R = r$, for $q, r \\geq 0$. \n",
    "$N$ will be 60 seconds. "
   ]
  },
  {
   "cell_type": "code",
   "execution_count": 23,
   "metadata": {},
   "outputs": [],
   "source": [
    "A = np.array([[1, 0.1],\n",
    "              [0, 1]])\n",
    "B = 9.8 * np.array([0.005, 0.1])\n",
    "\n",
    "q = 1\n",
    "r = 1\n",
    "Q = np.eye(2) * q\n",
    "R = r\n",
    "x0 = np.array([5, 5])\n",
    "\n",
    "N = 60"
   ]
  },
  {
   "cell_type": "markdown",
   "metadata": {},
   "source": [
    "### Question 1\n",
    "With this $A$, $B$, $Q$, and $R$ and the provided code implementing the DARE, generate plots of the system response. That is, use the DARE to find the optimal controller for the system. Then, plot each component of the resulting state and control over time. (That is, your x-axis should be time and you should plot u, x[0], and x[1] as they vary over time)."
   ]
  },
  {
   "cell_type": "code",
   "execution_count": 8,
   "metadata": {},
   "outputs": [],
   "source": [
    "# Call optimal_control() here\n",
    "# Plot the resulting controls and states"
   ]
  },
  {
   "cell_type": "markdown",
   "metadata": {},
   "source": [
    "### Question 2\n",
    "In the above, we set both of our $q$ and $r$ values to 1. But remember that these values are set by the control engineer to get a desired system response. What happens if these values are different? Play around with some different values of $q$ and $r$ and plot the system responses below."
   ]
  },
  {
   "cell_type": "code",
   "execution_count": null,
   "metadata": {},
   "outputs": [],
   "source": [
    "q = 1 # Change this value\n",
    "r = 1 # Change this value\n",
    "Q = np.eye(2) * q\n",
    "R = r"
   ]
  },
  {
   "cell_type": "code",
   "execution_count": null,
   "metadata": {},
   "outputs": [],
   "source": [
    "# Call optimal_control() here\n",
    "# Plot the resulting controls and states"
   ]
  },
  {
   "cell_type": "markdown",
   "metadata": {},
   "source": [
    "### Question 3\n",
    "Now we will tune the values of $q$ and $r$ in specific ways such that our LQR problem can account for constraints. Consider the case in which the control input at each time step is constrained to have a magnitude less than or equal to 1.5. What values of $q$ and $r$ give you the appropriate $u$'s? Plot the system response and show that your $u$'s fulfill the constraint."
   ]
  },
  {
   "cell_type": "code",
   "execution_count": null,
   "metadata": {},
   "outputs": [],
   "source": [
    "q = 1 # Change this value\n",
    "r = 1 # Change this value\n",
    "Q = np.eye(2) * q\n",
    "R = r\n",
    "\n",
    "# Call optimal_control() here\n",
    "# Plot the resulting controls and states\n",
    "\n",
    "uk, xk = [], [] # Change this!\n",
    "\n",
    "# Check that your uk satisfies the constraint\n",
    "print(max(np.abs(uk)))"
   ]
  },
  {
   "cell_type": "markdown",
   "metadata": {},
   "source": [
    "### Question 4\n",
    "Now, let us use the alternate approach to solving the LQR problem: treating it as a quadratic program. First, formulate your optimization problem. Then, use the cvxpy library to solve for the optimal controller. "
   ]
  },
  {
   "cell_type": "code",
   "execution_count": 21,
   "metadata": {},
   "outputs": [],
   "source": [
    "# Setting q and r back to the original values in order to focus just on the cvxpy constraint\n",
    "q = 1\n",
    "r = 1\n",
    "Q = np.eye(2) * q\n",
    "R = r"
   ]
  },
  {
   "cell_type": "code",
   "execution_count": 15,
   "metadata": {},
   "outputs": [],
   "source": [
    "# Write your xk's as:\n",
    "xk = cp.Variable(2)\n",
    "# and your uk's as:\n",
    "uk = cp.Variable()\n",
    "# Remember your constraints can include expressions such as\n",
    "# xkplus1 == A @ xk + B * uk\n",
    "\n",
    "constraints = [] # You can remove this line if necessary\n",
    "\n",
    "# Then generate a cost function\n",
    "cost = 0  # You can remove this line if necessary\n",
    "\n",
    "# Your code here\n",
    "\n",
    "objective = cp.Minimize(cost)\n",
    "prob = cp.Problem(objective, constraints)\n",
    "soln_opt = prob.solve()"
   ]
  },
  {
   "cell_type": "markdown",
   "metadata": {},
   "source": [
    "Plot the system response. As a sanity check, your solution should be very similar to the solution generated by the DARE when $q$ and $r$ are both 1."
   ]
  },
  {
   "cell_type": "code",
   "execution_count": 16,
   "metadata": {},
   "outputs": [],
   "source": [
    "# Your code here\n",
    "\n",
    "uk, xk = [], [] # Change this!\n",
    "\n",
    "# Plot uk and each element of xk"
   ]
  },
  {
   "cell_type": "markdown",
   "metadata": {},
   "source": [
    "### Question 5\n",
    "Tuning $q$ and $r$ values, as we did in Question 3, is a \"soft\" way to enforce constraints. However, it is difficult to incorporate hard constraints in the Discrete Algebraic Riccatti Equation approach. This is where your cvxpy implementation comes in! Use cvxpy's constraint functionality to incorporate the above constraint on the control input into your quadratic program. What does the system response look like? As a reminder, the constraint is that the control input at each time step must have magnitude <= 1.5."
   ]
  },
  {
   "cell_type": "code",
   "execution_count": 17,
   "metadata": {},
   "outputs": [],
   "source": [
    "# Write your xk's as:\n",
    "xk = cp.Variable(2)\n",
    "# and your uk's as:\n",
    "uk = cp.Variable()\n",
    "# Remember your constraints can include expressions such as\n",
    "# xkplus1 == A @ xk + B * uk\n",
    "# This time, your constraints should include the constraint on uk\n",
    "\n",
    "constraints = [] # You can remove this line if necessary\n",
    "\n",
    "# Then generate a cost function\n",
    "cost = 0  # You can remove this line if necessary\n",
    "\n",
    "# Your code here\n",
    "\n",
    "objective = cp.Minimize(cost)\n",
    "prob = cp.Problem(objective, constraints)\n",
    "soln_opt = prob.solve()"
   ]
  },
  {
   "cell_type": "code",
   "execution_count": null,
   "metadata": {},
   "outputs": [],
   "source": [
    "# Your code here\n",
    "\n",
    "uk, xk = [], [] # Change this!\n",
    "\n",
    "# Check that your uk satisfies the constraint\n",
    "print(max(np.abs(uk)))"
   ]
  },
  {
   "cell_type": "markdown",
   "metadata": {},
   "source": [
    "### Question 6\n",
    "Finally, think about the similarities and differences between the two approaches you implemented to run constrained LQR (tuning values versus having constraints in a quadratic program). Which system response is smoother and which is jerkier? Which approach might be better to use in safety-critical applications? "
   ]
  },
  {
   "cell_type": "markdown",
   "metadata": {},
   "source": [
    "#### YOUR ANSWER HERE    "
   ]
  },
  {
   "cell_type": "markdown",
   "metadata": {},
   "source": [
    "### Bibliography\n",
    "\n",
    "1. Patrick Bouffard, \"On-board Model Predictive Control of a Quadrotor Helicopter: Design, Implementation, and Experiments\", Dec 2012, http://www.eecs.berkeley.edu/Pubs/TechRpts/2012/EECS-2012-241.html. "
   ]
  },
  {
   "cell_type": "code",
   "execution_count": null,
   "metadata": {},
   "outputs": [],
   "source": []
  }
 ],
 "metadata": {
  "kernelspec": {
   "display_name": "Python 3",
   "language": "python",
   "name": "python3"
  },
  "language_info": {
   "codemirror_mode": {
    "name": "ipython",
    "version": 3
   },
   "file_extension": ".py",
   "mimetype": "text/x-python",
   "name": "python",
   "nbconvert_exporter": "python",
   "pygments_lexer": "ipython3",
   "version": "3.6.8"
  }
 },
 "nbformat": 4,
 "nbformat_minor": 4
}
